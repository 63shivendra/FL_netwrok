{
  "nbformat": 4,
  "nbformat_minor": 0,
  "metadata": {
    "colab": {
      "provenance": []
    },
    "kernelspec": {
      "name": "python3",
      "display_name": "Python 3"
    },
    "language_info": {
      "name": "python"
    }
  },
  "cells": [
    {
      "cell_type": "code",
      "execution_count": 1,
      "metadata": {
        "colab": {
          "base_uri": "https://localhost:8080/"
        },
        "id": "AMHNLUTy5o9o",
        "outputId": "05cc563c-fd8c-41d3-cb30-8d6fe96f10fa"
      },
      "outputs": [
        {
          "output_type": "stream",
          "name": "stdout",
          "text": [
            "Dataset cleaned and saved as 'sanchityelonayi.csv'.\n"
          ]
        }
      ],
      "source": [
        "import pandas as pd\n",
        "import numpy as np\n",
        "from datetime import datetime\n",
        "\n",
        "# Load the dataset\n",
        "df = pd.read_csv(\"filtered_dataset_condition3500.csv\")\n",
        "\n",
        "# Convert 'birthDate' to datetime\n",
        "df['birthDate'] = pd.to_datetime(df['birthDate'])\n",
        "\n",
        "# Define current date (July 3, 2025)\n",
        "current_date = datetime(2025, 7, 3)\n",
        "\n",
        "# Calculate age in years\n",
        "df['age'] = (current_date - df['birthDate']).dt.days / 365.25\n",
        "df['age'] = df['age'].round(2)\n",
        "\n",
        "# Convert 'gender' to categorical type\n",
        "df['gender'] = df['gender'].astype('category')\n",
        "\n",
        "# Identify observation columns (starting with 'obs_')\n",
        "obs_columns = [col for col in df.columns if col.startswith('obs_')]\n",
        "\n",
        "# Ensure observation columns are numeric and impute missing values with median\n",
        "for col in obs_columns:\n",
        "    df[col] = pd.to_numeric(df[col], errors='coerce')\n",
        "df[obs_columns] = df[obs_columns].fillna(df[obs_columns].median())\n",
        "\n",
        "# Identify allergy and condition columns\n",
        "allergy_columns = [col for col in df.columns if col.startswith('allergy_')]\n",
        "condition_columns = [col for col in df.columns if col.startswith('condition_')]\n",
        "\n",
        "# Ensure allergy and condition columns are numeric, set missing to 0, and convert to integer\n",
        "for col in allergy_columns + condition_columns:\n",
        "    df[col] = pd.to_numeric(df[col], errors='coerce').fillna(0).astype(int)\n",
        "\n",
        "# Save the cleaned dataset to a new CSV file\n",
        "df.to_csv(\"sanchityelonayi.csv\", index=False)\n",
        "\n",
        "print(\"Dataset cleaned and saved as 'sanchityelonayi.csv'.\")"
      ]
    }
  ]
}